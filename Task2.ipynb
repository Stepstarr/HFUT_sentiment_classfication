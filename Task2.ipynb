{
 "cells": [
  {
   "cell_type": "markdown",
   "source": [
    "# Task2\n",
    "## 数据集描述\n",
    "该数据集一共有9000+条数据，均为评论数据转换为词向量形式。有150个特征词，第一列为样本序号，最后一列为情感属性（1为positive,0为negative）"
   ],
   "metadata": {
    "collapsed": false
   }
  },
  {
   "cell_type": "code",
   "execution_count": 5,
   "outputs": [],
   "source": [
    "import pandas as pd\n",
    "df = pd.read_excel('词向量转换结果.xls')"
   ],
   "metadata": {
    "collapsed": false
   }
  },
  {
   "cell_type": "code",
   "execution_count": 6,
   "outputs": [
    {
     "data": {
      "text/plain": "   样本序号  有点  非常  空间  外观  大气  不错  地方  满意  起步  ...  般般  倒车  自驾游  相当  对于  用料  偏硬  \\\n0     1   0   0   1   0   0   0   0   0   0  ...   0   0    0   0   0   0   0   \n1     2   1   1   1   0   0   1   0   0   0  ...   0   0    0   0   0   1   0   \n2     3   0   1   0   1   0   0   0   1   0  ...   0   0    0   0   0   0   0   \n3     4   0   0   0   0   0   0   0   0   0  ...   0   0    0   0   0   0   0   \n4     5   0   1   0   0   0   0   0   0   0  ...   0   0    0   0   0   0   0   \n\n   行李箱  车窗  标注分类  \n0    0   0     1  \n1    0   0     1  \n2    0   0     1  \n3    0   0     1  \n4    0   0     1  \n\n[5 rows x 152 columns]",
      "text/html": "<div>\n<style scoped>\n    .dataframe tbody tr th:only-of-type {\n        vertical-align: middle;\n    }\n\n    .dataframe tbody tr th {\n        vertical-align: top;\n    }\n\n    .dataframe thead th {\n        text-align: right;\n    }\n</style>\n<table border=\"1\" class=\"dataframe\">\n  <thead>\n    <tr style=\"text-align: right;\">\n      <th></th>\n      <th>样本序号</th>\n      <th>有点</th>\n      <th>非常</th>\n      <th>空间</th>\n      <th>外观</th>\n      <th>大气</th>\n      <th>不错</th>\n      <th>地方</th>\n      <th>满意</th>\n      <th>起步</th>\n      <th>...</th>\n      <th>般般</th>\n      <th>倒车</th>\n      <th>自驾游</th>\n      <th>相当</th>\n      <th>对于</th>\n      <th>用料</th>\n      <th>偏硬</th>\n      <th>行李箱</th>\n      <th>车窗</th>\n      <th>标注分类</th>\n    </tr>\n  </thead>\n  <tbody>\n    <tr>\n      <th>0</th>\n      <td>1</td>\n      <td>0</td>\n      <td>0</td>\n      <td>1</td>\n      <td>0</td>\n      <td>0</td>\n      <td>0</td>\n      <td>0</td>\n      <td>0</td>\n      <td>0</td>\n      <td>...</td>\n      <td>0</td>\n      <td>0</td>\n      <td>0</td>\n      <td>0</td>\n      <td>0</td>\n      <td>0</td>\n      <td>0</td>\n      <td>0</td>\n      <td>0</td>\n      <td>1</td>\n    </tr>\n    <tr>\n      <th>1</th>\n      <td>2</td>\n      <td>1</td>\n      <td>1</td>\n      <td>1</td>\n      <td>0</td>\n      <td>0</td>\n      <td>1</td>\n      <td>0</td>\n      <td>0</td>\n      <td>0</td>\n      <td>...</td>\n      <td>0</td>\n      <td>0</td>\n      <td>0</td>\n      <td>0</td>\n      <td>0</td>\n      <td>1</td>\n      <td>0</td>\n      <td>0</td>\n      <td>0</td>\n      <td>1</td>\n    </tr>\n    <tr>\n      <th>2</th>\n      <td>3</td>\n      <td>0</td>\n      <td>1</td>\n      <td>0</td>\n      <td>1</td>\n      <td>0</td>\n      <td>0</td>\n      <td>0</td>\n      <td>1</td>\n      <td>0</td>\n      <td>...</td>\n      <td>0</td>\n      <td>0</td>\n      <td>0</td>\n      <td>0</td>\n      <td>0</td>\n      <td>0</td>\n      <td>0</td>\n      <td>0</td>\n      <td>0</td>\n      <td>1</td>\n    </tr>\n    <tr>\n      <th>3</th>\n      <td>4</td>\n      <td>0</td>\n      <td>0</td>\n      <td>0</td>\n      <td>0</td>\n      <td>0</td>\n      <td>0</td>\n      <td>0</td>\n      <td>0</td>\n      <td>0</td>\n      <td>...</td>\n      <td>0</td>\n      <td>0</td>\n      <td>0</td>\n      <td>0</td>\n      <td>0</td>\n      <td>0</td>\n      <td>0</td>\n      <td>0</td>\n      <td>0</td>\n      <td>1</td>\n    </tr>\n    <tr>\n      <th>4</th>\n      <td>5</td>\n      <td>0</td>\n      <td>1</td>\n      <td>0</td>\n      <td>0</td>\n      <td>0</td>\n      <td>0</td>\n      <td>0</td>\n      <td>0</td>\n      <td>0</td>\n      <td>...</td>\n      <td>0</td>\n      <td>0</td>\n      <td>0</td>\n      <td>0</td>\n      <td>0</td>\n      <td>0</td>\n      <td>0</td>\n      <td>0</td>\n      <td>0</td>\n      <td>1</td>\n    </tr>\n  </tbody>\n</table>\n<p>5 rows × 152 columns</p>\n</div>"
     },
     "execution_count": 6,
     "metadata": {},
     "output_type": "execute_result"
    }
   ],
   "source": [
    "df.head()"
   ],
   "metadata": {
    "collapsed": false
   }
  },
  {
   "cell_type": "markdown",
   "source": [
    "## 计算一些特征出现概率"
   ],
   "metadata": {
    "collapsed": false
   }
  },
  {
   "cell_type": "code",
   "execution_count": 7,
   "outputs": [],
   "source": [
    "def calculate_probabilities(df,feature:str)->float:\n",
    "    '''\n",
    "    :param df: 即输入的词向量转换结果\n",
    "    :param feature: 需要算的某个特征，例如：“空间”\n",
    "    :return: p1,p0,n1,n0\n",
    "    其中p1=p(1|评论出现'空间'),即当评论出现空间这个词语（空间对应的那一列为1）时，评论情感为positive的概率（标注分类为1）\n",
    "    其中p0=p(1|评论出现'空间'),即当评论不出现空间这个词语（空间对应的那一列为0）时，评论情感为positive的概率（标注分类为1）\n",
    "    其中n1=p(1|评论出现'空间'),即当评论出现空间这个词语（空间对应的那一列为1）时，评论情感为negative的概率（标注分类为0）\n",
    "    其中n0=p(1|评论出现'空间'),即当评论不出现空间这个词语（空间对应的那一列为0）时，评论情感为negative的概率（标注分类为0）\n",
    "    '''\n",
    "    p1,p0,n1,n0=0,0,0,0\n",
    "    return {'p1':p1, 'p0':p0, 'n1':n1,'n0': n0}"
   ],
   "metadata": {
    "collapsed": false
   }
  },
  {
   "cell_type": "markdown",
   "source": [
    "## 对于给定样本，计算分类\n",
    "[朴素贝叶斯分类参考阅读](https://zhuanlan.zhihu.com/p/431725769)"
   ],
   "metadata": {
    "collapsed": false
   }
  },
  {
   "cell_type": "code",
   "execution_count": null,
   "outputs": [],
   "source": [
    "def classfication_test(x,P1,P0,N1,N0):\n",
    "    '''\n",
    "    :param x: 为某个样本的词向量表示（只有空间、价格两个特征），如[1,0]代表该条评论包含空间但不包含价格，[1,1]表示该条评论空间价格都包括\n",
    "    :param P1：P1为空间出现后为积极的概率以及价格出现后为积极的概率，如[0.3,0.9]表示当空间出现，则评论有0.3的可能为积极，当价格出现，评论有0.9的可能为积极\n",
    "    :param P0：P0为空间不出现后为积极的概率以及价格不出现后为积极的概率，如[0.6,0.7]表示当空间不出现，则评论有0.6的可能为积极，当价格不出现，评论有0.7的可能为积极\n",
    "    :param N1：N1为空间出现后为消极的概率以及价格出现后为消极的概率，如[0.7,0.1]表示当空间出现，则评论有0.7的可能为消极，当价格出现，评论有0.1的可能为消极\n",
    "    :param N0：N0为空间不出现后为消极的概率以及价格不出现后为消极的概率，如[0.4,0.3]表示当空间不出现，则评论有0.4的可能为消极，当价格不出现，评论有0.7的可能为消极\n",
    "    :return: x属于的类别\n",
    "    '''\n",
    "    pre_y =0\n",
    "    return pre_y"
   ],
   "metadata": {
    "collapsed": false
   }
  },
  {
   "cell_type": "markdown",
   "source": [
    "## 课后作业\n",
    "数据集：词向量转换结果.xls\n",
    "\n",
    "训练朴素贝叶斯模型，并得出模型的一些评估指标"
   ],
   "metadata": {
    "collapsed": false
   }
  },
  {
   "cell_type": "code",
   "execution_count": null,
   "outputs": [],
   "source": [],
   "metadata": {
    "collapsed": false
   }
  }
 ],
 "metadata": {
  "kernelspec": {
   "display_name": "Python 3",
   "language": "python",
   "name": "python3"
  },
  "language_info": {
   "codemirror_mode": {
    "name": "ipython",
    "version": 2
   },
   "file_extension": ".py",
   "mimetype": "text/x-python",
   "name": "python",
   "nbconvert_exporter": "python",
   "pygments_lexer": "ipython2",
   "version": "2.7.6"
  }
 },
 "nbformat": 4,
 "nbformat_minor": 0
}
