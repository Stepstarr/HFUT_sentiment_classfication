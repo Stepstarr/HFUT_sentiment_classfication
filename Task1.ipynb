{
 "cells": [
  {
   "cell_type": "markdown",
   "metadata": {
    "collapsed": false
   },
   "source": [
    "# 分词与词频统计\n",
    "在文本处理任务中，通过分词统计词频，你可以了解评论中出现最频繁的词汇，从而得知评论的主题和情感倾向。这有助于理解用户对特定话题或产品的看法， 评论中的高频词汇可能反映用户的主要关切和需求。\n",
    "\n",
    "例如给定多条评论（这里为2条来举例）：“长安总体来说还算不错的，不论从外观、内饰、空间来说都可以。”“长安的外观很可以，但油耗不行”\n",
    "\n",
    "将返回一个dict {'长安':2，'外观'：2,}\n",
    "\n",
    "在这个小任务中，有三个步骤：\n",
    "\n",
    "- **Step1**\n",
    "对每条评论进行分词\n",
    "  "
   ]
  },
  {
   "cell_type": "code",
   "execution_count": 1,
   "metadata": {},
   "outputs": [
    {
     "name": "stderr",
     "output_type": "stream",
     "text": [
      "Building prefix dict from the default dictionary ...\n",
      "Loading model from cache C:\\Users\\Stepstar\\AppData\\Local\\Temp\\jieba.cache\n",
      "Loading model cost 0.660 seconds.\n",
      "Prefix dict has been built successfully.\n"
     ]
    },
    {
     "data": {
      "text/plain": "['长安', '的', '外观', '很', '可以', '，', '但', '油耗', '不行']"
     },
     "execution_count": 1,
     "metadata": {},
     "output_type": "execute_result"
    }
   ],
   "source": [
    "%load_ext autoreload\n",
    "%autoreload 2\n",
    "import jieba\n",
    "jieba.lcut('长安的外观很可以，但油耗不行')"
   ]
  },
  {
   "cell_type": "markdown",
   "metadata": {},
   "source": [
    "可以看到，分词结果有很多“杂质”，比如标点符号，不具有含义的中文词语\n",
    "\n",
    "基于此，我们引入了停用词库[stopwords.txt](https://github.com/goto456/stopwords)，这个文件是中文停用词表, 哈工大停用词表, 百度停用词表, 四川大学机器智能实验室停用词库四份停用词表进行了合并去重\n",
    "\n",
    "- **Step2**\n",
    "导入停用词，并对原本分词结果去除停用词"
   ]
  },
  {
   "cell_type": "code",
   "execution_count": 2,
   "metadata": {},
   "outputs": [
    {
     "name": "stdout",
     "output_type": "stream",
     "text": [
      "此处输出停用词列表stopwords示例\n",
      "['\"', '#', '$', '&', \"'\", '(', ')', '*', '+', ',']\n"
     ]
    }
   ],
   "source": [
    "fp = open('stop_words.txt', \"r\", encoding=\"utf-8\")\n",
    "stopwords = fp.readlines()\n",
    "fp.close()\n",
    "#去除换行符\n",
    "for i in range(len(stopwords)):\n",
    "    stopwords[i] =stopwords[i].rstrip(\"\\n\")\n",
    "print(f'此处输出停用词列表stopwords示例\\n{stopwords[:10]}')"
   ]
  },
  {
   "cell_type": "code",
   "execution_count": 12,
   "metadata": {},
   "outputs": [],
   "source": [
    "'''\n",
    "补全Segmentation函数代码\n",
    "输入一句话，返回该段话去除停用词后的分词结果（list格式）\n",
    "'''\n",
    "def Segmentation(x:str)->list:\n",
    "    seg_list=[]\n",
    "    '''\n",
    "    补全代码\n",
    "    '''\n",
    "    return seg_list"
   ]
  },
  {
   "cell_type": "code",
   "execution_count": 20,
   "outputs": [
    {
     "name": "stdout",
     "output_type": "stream",
     "text": [
      "-------------第1个测试项正在测试-------------\n",
      "代码运行时长: 0.0000 秒\n",
      "代码得分: 0.0000\n",
      "不通过\n",
      "-------------第2个测试项正在测试-------------\n",
      "代码运行时长: 0.0000 秒\n",
      "代码得分: 0.0000\n",
      "不通过\n",
      "-------------第3个测试项正在测试-------------\n",
      "代码运行时长: 0.0000 秒\n",
      "代码得分: 0.0000\n",
      "不通过\n",
      "-------------第4个测试项正在测试-------------\n",
      "代码运行时长: 0.0000 秒\n",
      "代码得分: 0.0000\n",
      "不通过\n",
      "-------------第5个测试项正在测试-------------\n",
      "代码运行时长: 0.0000 秒\n",
      "代码得分: 0.0000\n",
      "不通过\n",
      "-------------第6个测试项正在测试-------------\n",
      "代码运行时长: 0.0000 秒\n",
      "代码得分: 0.0000\n",
      "不通过\n",
      "-------------第7个测试项正在测试-------------\n",
      "代码运行时长: 0.0000 秒\n",
      "代码得分: 0.0000\n",
      "不通过\n",
      "-------------第8个测试项正在测试-------------\n",
      "代码运行时长: 0.0000 秒\n",
      "代码得分: 0.0000\n",
      "不通过\n",
      "-------------第9个测试项正在测试-------------\n",
      "代码运行时长: 0.0000 秒\n",
      "代码得分: 0.0000\n",
      "不通过\n",
      "-------------第10个测试项正在测试-------------\n",
      "代码运行时长: 0.0000 秒\n",
      "代码得分: 0.0000\n",
      "不通过\n",
      "------------------最终结果------------------\n",
      "通过率0/10\n"
     ]
    }
   ],
   "source": [
    "import test\n",
    "test.test_seg(Segmentation)"
   ],
   "metadata": {
    "collapsed": false
   }
  },
  {
   "cell_type": "markdown",
   "source": [
    "- **Step3**\n",
    "统计词频"
   ],
   "metadata": {
    "collapsed": false
   }
  },
  {
   "cell_type": "code",
   "execution_count": 13,
   "metadata": {
    "collapsed": false
   },
   "outputs": [],
   "source": [
    "'''\n",
    "补全feature_count函数代码\n",
    "'''\n",
    "def feature_count(x:list)->dict:\n",
    "    count_list = {}\n",
    "    '''\n",
    "    :param:  输入x为一个词语列表，例如['我','你','我']\n",
    "    :return: 返回词频，字典的形式，例如{'我':2，'你':1}\n",
    "    补全代码\n",
    "    '''\n",
    "    return count_list"
   ]
  },
  {
   "cell_type": "code",
   "execution_count": 14,
   "metadata": {
    "collapsed": false
   },
   "outputs": [
    {
     "name": "stdout",
     "output_type": "stream",
     "text": [
      "-------------第1个测试项正在测试-------------\n",
      "代码运行时长: 0.0000 秒\n",
      "不通过\n",
      "-------------第2个测试项正在测试-------------\n",
      "代码运行时长: 0.0000 秒\n",
      "不通过\n",
      "-------------第3个测试项正在测试-------------\n",
      "代码运行时长: 0.0000 秒\n",
      "不通过\n",
      "-------------第4个测试项正在测试-------------\n",
      "代码运行时长: 0.0000 秒\n",
      "不通过\n",
      "-------------第5个测试项正在测试-------------\n",
      "代码运行时长: 0.0000 秒\n",
      "不通过\n",
      "-------------第6个测试项正在测试-------------\n",
      "代码运行时长: 0.0000 秒\n",
      "不通过\n",
      "-------------第7个测试项正在测试-------------\n",
      "代码运行时长: 0.0000 秒\n",
      "不通过\n",
      "-------------第8个测试项正在测试-------------\n",
      "代码运行时长: 0.0000 秒\n",
      "不通过\n",
      "-------------第9个测试项正在测试-------------\n",
      "代码运行时长: 0.0000 秒\n",
      "不通过\n",
      "-------------第10个测试项正在测试-------------\n",
      "代码运行时长: 0.0000 秒\n",
      "不通过\n",
      "------------------最终结果------------------\n",
      "通过率0/10\n"
     ]
    }
   ],
   "source": [
    "test.test_count(feature_count)"
   ]
  },
  {
   "cell_type": "markdown",
   "source": [
    "# 句子词向量转换\n",
    "句子或词组的向量转换是自然语言处理（NLP）领域中的一项关键技术，它的主要目的是将文本转换为数值表示，以便计算机可以理解和处理。 在NLP任务中，文本通常需要转换为向量形式作为模型的输入特征。这些向量化的表示可以帮助机器学习模型捕获文本中的信息，从而支持任务如分类、聚类、情感分析等。\n",
    "\n",
    "在这个练习中，涉及到两个转换方法\n",
    "\n",
    "- **方式1**\n",
    "选择一些特征词，如从数据中挑选出特征词['内饰','屏幕','座椅']\n",
    "出现特征词记为1，反之为0\n",
    "那么句子“这辆车的屏幕很大”则转换为-->[0,1,0]\n",
    "“这辆车内饰和屏幕很好”转换为-->[1,1,0]\n",
    "“座椅很喜欢”转换为-->[0,0,1]"
   ],
   "metadata": {
    "collapsed": false
   }
  },
  {
   "cell_type": "code",
   "execution_count": 4,
   "outputs": [],
   "source": [
    "def Sentence_Vector1(sentence:str,feature_list:list)->list:\n",
    "    '''\n",
    "    :param sentence: 要转换的句子\n",
    "    :param feature_list: 特征词\n",
    "    :return: SentenceVec:词向量\n",
    "    '''\n",
    "    SentenceVec =[]\n",
    "    return SentenceVec"
   ],
   "metadata": {
    "collapsed": false
   }
  },
  {
   "cell_type": "code",
   "execution_count": 8,
   "outputs": [
    {
     "name": "stdout",
     "output_type": "stream",
     "text": [
      "-------------第1个测试项正在测试-------------\n",
      "代码运行时长: 0.0020 秒\n",
      "通过\n",
      "-------------第2个测试项正在测试-------------\n",
      "代码运行时长: 0.0020 秒\n",
      "通过\n",
      "-------------第3个测试项正在测试-------------\n",
      "代码运行时长: 0.0020 秒\n",
      "通过\n",
      "-------------第4个测试项正在测试-------------\n",
      "代码运行时长: 0.0010 秒\n",
      "通过\n",
      "-------------第5个测试项正在测试-------------\n",
      "代码运行时长: 0.0040 秒\n",
      "通过\n",
      "-------------第6个测试项正在测试-------------\n",
      "代码运行时长: 0.0000 秒\n",
      "通过\n",
      "-------------第7个测试项正在测试-------------\n",
      "代码运行时长: 0.0030 秒\n",
      "通过\n",
      "-------------第8个测试项正在测试-------------\n",
      "代码运行时长: 0.0010 秒\n",
      "通过\n",
      "-------------第9个测试项正在测试-------------\n",
      "代码运行时长: 0.0020 秒\n",
      "通过\n",
      "-------------第10个测试项正在测试-------------\n",
      "代码运行时长: 0.0000 秒\n",
      "通过\n",
      "------------------最终结果------------------\n",
      "通过率10/10\n"
     ]
    }
   ],
   "source": [
    "import test\n",
    "test.test_sentence_Vec1(Sentence_Vector1)"
   ],
   "metadata": {
    "collapsed": false
   }
  },
  {
   "cell_type": "markdown",
   "source": [
    "- **方式2**\n",
    "用预训练好的词向量文件去得到embedding。\n",
    "其中[huggingface](https://huggingface.co/)上可以根据需求下载对应的预训练词向量。"
   ],
   "metadata": {
    "collapsed": false
   }
  },
  {
   "cell_type": "markdown",
   "source": [
    "# 分类结果评估指标\n",
    "评价指标是针对模型性能优劣的一个定量指标。\n",
    "\n",
    "一种评价指标只能反映模型一部分性能，如果选择的评价指标不合理，那么可能会得出错误的结论，故而应该针对具体的数据、模型选取不同的的评价指标。\n",
    "针对一个二分类问题，即将实例分成正类（positive）或负类（negative），在实际分类中会出现以下四种情况：\n",
    "（1）若一个实例是正类，并且被预测为正类，即为真正类TP(True Positive )\n",
    "（2）若一个实例是正类，但是被预测为负类，即为假负类FN(False Negative )\n",
    "（3）若一个实例是负类，但是被预测为正类，即为假正类FP(False Positive )\n",
    "（4）若一个实例是负类，并且被预测为负类，即为真负类TN(True Negative )\n",
    "\n",
    "混淆矩阵的每一行是样本的预测分类，每一列是样本的真实分类（反过来也可以）。\n",
    "\n",
    "| 真实标签\\预测标签 | 正例  | 反例  |\n",
    "|-----------|-----|-----|\n",
    "|  正例     | TP  | FN  |\n",
    "| 反例 | FP  | TN  |\n",
    "\n",
    "评价指标包括准确率（Accuracy）、精确率（Precision）、召回率（Recall）、F1 Score\n",
    "- Accuracy\n",
    "Accuracy预测正确的样本数量占总量的百分比，具体的公式如下：\n",
    "(TP+TN)/(TP+FN+FP+TN)\n",
    "准确率有一个缺点，就是数据的样本不均衡，这个指标是不能评价模型的性能优劣的。\n",
    "假如一个测试集有正样本99个，负样本1个。模型把所有的样本都预测为正样本，那么模型的Accuracy为99%，看评价指标，模型的效果很好，但实际上模型没有任何预测能力。\n",
    "- Precision\n",
    "又称为查准率，是针对预测结果而言的一个评价指标。在模型预测为正样本的结果中，真正是正样本所占的百分比，具体公式如下\n",
    "TP/(TP+FP)\n",
    "- Recall\n",
    "又称为查全率，是针对原始样本而言的一个评价指标。在实际为正样本中，被预测为正样本所占的百分比。具体公式如下：\n",
    "TP/(TP+FN)\n",
    "- F1 Score\n",
    "查准率与查全率的调和平均数\n",
    "F_1 = (2*P*R)/(P+R)"
   ],
   "metadata": {
    "collapsed": false
   }
  },
  {
   "cell_type": "code",
   "execution_count": 11,
   "outputs": [],
   "source": [
    "def evaluate_metrics(pre:list,test_y:list)->float:\n",
    "    '''\n",
    "    :param pre: 预测结果，为一个存储着0-1元素的列表 如[1,0,1,0,0,1]\n",
    "    :param test_y: 真实标签，为一个存储着0-1元素的列表 如[0,0,1,0,0,1]\n",
    "    :return: F1_score,先算出查准率，再算出查全率。这里，我们以1为正样本，0为负样本。\n",
    "    补充说明：上面的例子中，意味着样本有5个，其中第一个预测错了（真实标签为0但是预测成了1），后四个预测对了\n",
    "    '''\n",
    "    F1_score = 0 #该句可删\n",
    "    return format(F1_score, '.4f')#结果保留四位小数"
   ],
   "metadata": {
    "collapsed": false
   }
  },
  {
   "cell_type": "code",
   "execution_count": 12,
   "outputs": [
    {
     "name": "stdout",
     "output_type": "stream",
     "text": [
      "-------------第1个测试项正在测试-------------\n",
      "代码运行时长: 0.0000 秒\n",
      "通过\n",
      "-------------第2个测试项正在测试-------------\n",
      "代码运行时长: 0.0000 秒\n",
      "通过\n",
      "-------------第3个测试项正在测试-------------\n",
      "代码运行时长: 0.0010 秒\n",
      "通过\n",
      "-------------第4个测试项正在测试-------------\n",
      "代码运行时长: 0.0000 秒\n",
      "通过\n",
      "-------------第5个测试项正在测试-------------\n",
      "代码运行时长: 0.0000 秒\n",
      "通过\n",
      "-------------第6个测试项正在测试-------------\n",
      "代码运行时长: 0.0000 秒\n",
      "通过\n",
      "-------------第7个测试项正在测试-------------\n",
      "代码运行时长: 0.0000 秒\n",
      "通过\n",
      "-------------第8个测试项正在测试-------------\n",
      "代码运行时长: 0.0000 秒\n",
      "通过\n",
      "-------------第9个测试项正在测试-------------\n",
      "代码运行时长: 0.0000 秒\n",
      "通过\n",
      "-------------第10个测试项正在测试-------------\n",
      "代码运行时长: 0.0000 秒\n",
      "通过\n",
      "------------------最终结果------------------\n",
      "通过率10/10\n"
     ]
    }
   ],
   "source": [
    "test.F1_score_(evaluate_metrics)"
   ],
   "metadata": {
    "collapsed": false
   }
  },
  {
   "cell_type": "code",
   "execution_count": null,
   "outputs": [],
   "source": [],
   "metadata": {
    "collapsed": false
   }
  }
 ],
 "metadata": {
  "kernelspec": {
   "name": "python3",
   "language": "python",
   "display_name": "Python 3 (ipykernel)"
  },
  "language_info": {
   "codemirror_mode": {
    "name": "ipython",
    "version": 3
   },
   "file_extension": ".py",
   "mimetype": "text/x-python",
   "name": "python",
   "nbconvert_exporter": "python",
   "pygments_lexer": "ipython3",
   "version": "3.8.5"
  }
 },
 "nbformat": 4,
 "nbformat_minor": 0
}
